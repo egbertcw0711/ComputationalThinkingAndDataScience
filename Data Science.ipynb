{
 "cells": [
  {
   "cell_type": "markdown",
   "metadata": {},
   "source": [
    "### Greedy Algorithms"
   ]
  },
  {
   "cell_type": "code",
   "execution_count": 5,
   "metadata": {
    "collapsed": false
   },
   "outputs": [],
   "source": [
    "class Item(object):\n",
    "    def __init__(self, n, v, w):\n",
    "        self.name = n\n",
    "        self.value = v\n",
    "        self.weight = w\n",
    "    def getName(self):\n",
    "        return self.name\n",
    "    def getValue(self):\n",
    "        return self.value\n",
    "    def getWeight(self):\n",
    "        return self.weight\n",
    "    def __str__(self):\n",
    "        res = '<'+self.name+', '+str(self.value)+', '+str(self.weight)+'>'\n",
    "        return res\n",
    "    \n",
    "def value(item):\n",
    "    return item.getValue()\n",
    "def weightInverse(item):\n",
    "    return 1.0 / item.getWeight()\n",
    "def density(item):\n",
    "    return item.getValue()/item.getWeight()\n",
    "def buildItems():\n",
    "    names = ['clock','painting','radio','vase','book','computer']\n",
    "    vals = [175,90,20,50,10,200]\n",
    "    weights = [10,9,4,2,1,20]\n",
    "    Items = []\n",
    "    for i in range(len(vals)):\n",
    "        Items.append(Item(names[i],vals[i],weights[i]))\n",
    "    return Items\n",
    "def greedy(Items, maxWeight, keyFcn):\n",
    "    assert type(Items) == list and maxWeight >= 0\n",
    "    ItemsCopy = sorted(Items, key=keyFcn, reverse=True)\n",
    "    result = []\n",
    "    totalVal = 0.0\n",
    "    totalWeight = 0.0\n",
    "    i = 0\n",
    "    while totalWeight < maxWeight and i < len(Items):\n",
    "        if(totalWeight+ItemsCopy[i].getWeight()) <= maxWeight:\n",
    "            result.append(ItemsCopy[i])\n",
    "            totalWeight += ItemsCopy[i].getWeight()\n",
    "            totalVal += ItemsCopy[i].getValue()\n",
    "        i += 1\n",
    "    return (result,totalVal)\n",
    "def testGreedy(Items, constraint, getKey):\n",
    "    taken, val = greedy(Items, constraint, getKey)\n",
    "    print('Total value of items taken = ', str(val))\n",
    "    for item in taken:\n",
    "        print(' ',item)"
   ]
  },
  {
   "cell_type": "code",
   "execution_count": 6,
   "metadata": {
    "collapsed": false
   },
   "outputs": [
    {
     "name": "stdout",
     "output_type": "stream",
     "text": [
      "Use greedy by value for knapsack of size maxWeight\n",
      "Total value of items taken =  200.0\n",
      "  <computer, 200, 20>\n",
      "Use greedy by weight to fill knapsack of size maxWeight\n",
      "Total value of items taken =  170.0\n",
      "  <book, 10, 1>\n",
      "  <vase, 50, 2>\n",
      "  <radio, 20, 4>\n",
      "  <painting, 90, 9>\n",
      "Use greedy by density for knapsack of size maxWeight\n",
      "Total value of items taken =  255.0\n",
      "  <vase, 50, 2>\n",
      "  <clock, 175, 10>\n",
      "  <book, 10, 1>\n",
      "  <radio, 20, 4>\n"
     ]
    }
   ],
   "source": [
    "maxWeight = 20\n",
    "Items = buildItems()\n",
    "print('Use greedy by value for knapsack of size maxWeight')\n",
    "testGreedy(Items, maxWeight, value)\n",
    "print('Use greedy by weight to fill knapsack of size maxWeight')\n",
    "testGreedy(Items,maxWeight,weightInverse)\n",
    "print('Use greedy by density for knapsack of size maxWeight')\n",
    "testGreedy(Items, maxWeight, density)"
   ]
  },
  {
   "cell_type": "markdown",
   "metadata": {},
   "source": [
    "### Graph Theory"
   ]
  },
  {
   "cell_type": "code",
   "execution_count": 8,
   "metadata": {
    "collapsed": false
   },
   "outputs": [],
   "source": [
    "class Node(object):\n",
    "    def __init__(self, name):\n",
    "        self.name = str(name)\n",
    "    def getName(self):\n",
    "        return self.name\n",
    "    def __str__(self):\n",
    "        return self.name\n",
    "    \n",
    "class Edge(object):\n",
    "    def __init__(self, src, dest):\n",
    "        self.src = src\n",
    "        self.dest = dest\n",
    "    def getSource(self):\n",
    "        return self.src\n",
    "    def getDestination(self):\n",
    "        return self.dest\n",
    "    def __str__(self):\n",
    "        return str(self.src) + '->' + str(self.dest)\n",
    "    \n",
    "class WeightedEdge(Edge):\n",
    "    def __init__(self, src, dest, weight = 1.0):\n",
    "        self.src = src\n",
    "        self.dest = dest\n",
    "        self.weight = weight\n",
    "    def getWeight(self):\n",
    "        return self.weight\n",
    "    def __str__(self):\n",
    "        return str(self.src)+'->('+str(self.weight)+')'+str(self.dest)"
   ]
  },
  {
   "cell_type": "code",
   "execution_count": 9,
   "metadata": {
    "collapsed": true
   },
   "outputs": [],
   "source": [
    "class Digraph(object):\n",
    "    def __init__(self):\n",
    "        self.nodes = []\n",
    "        self.edges = {}\n",
    "    def addNode(self, node):\n",
    "        if node in self.nodes:\n",
    "            raise ValueError('Duplicate node')\n",
    "        else:\n",
    "            self.nodes.append(node)\n",
    "            self.edges[node] = []\n",
    "    def addEdge(self, edge):\n",
    "        src = edge.getSource()\n",
    "        dest = edge.getDestination()\n",
    "        if not(src in self.nodes and dest in self.nodes):\n",
    "            raise ValueError('Node not in graph')\n",
    "        self.edges[src].append(dest)\n",
    "    def childrenOf(self, node):\n",
    "        return self.edges[node]\n",
    "    def hasNode(self, node):\n",
    "        return node in self.nodes\n",
    "    def __str__(self):\n",
    "        res = ''\n",
    "        for k in self.edges:\n",
    "            for d in self.edges[k]:\n",
    "                res += str(k)+'->'+str(d)+'\\n'\n",
    "        return res[:-1]\n",
    "\n",
    "class Graph(Digraph):\n",
    "    def addEdge(self, edge):\n",
    "        Digraph.addEdge(self,edge)\n",
    "        rev = Edge(edge.getDestination(),edge.getSource())\n",
    "        Digraph.addEdge(self, rev)"
   ]
  },
  {
   "cell_type": "code",
   "execution_count": null,
   "metadata": {
    "collapsed": true
   },
   "outputs": [],
   "source": []
  }
 ],
 "metadata": {
  "anaconda-cloud": {},
  "kernelspec": {
   "display_name": "Python [conda root]",
   "language": "python",
   "name": "conda-root-py"
  },
  "language_info": {
   "codemirror_mode": {
    "name": "ipython",
    "version": 3
   },
   "file_extension": ".py",
   "mimetype": "text/x-python",
   "name": "python",
   "nbconvert_exporter": "python",
   "pygments_lexer": "ipython3",
   "version": "3.5.2"
  }
 },
 "nbformat": 4,
 "nbformat_minor": 1
}
