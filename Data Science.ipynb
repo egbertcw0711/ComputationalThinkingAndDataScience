{
 "cells": [
  {
   "cell_type": "markdown",
   "metadata": {},
   "source": [
    "### Greedy Algorithms"
   ]
  },
  {
   "cell_type": "code",
   "execution_count": 5,
   "metadata": {
    "collapsed": true
   },
   "outputs": [],
   "source": [
    "class Item(object):\n",
    "    def __init__(self, n, v, w):\n",
    "        self.name = n\n",
    "        self.value = v\n",
    "        self.weight = w\n",
    "    def getName(self):\n",
    "        return self.name\n",
    "    def getValue(self):\n",
    "        return self.value\n",
    "    def getWeight(self):\n",
    "        return self.weight\n",
    "    def __str__(self):\n",
    "        res = '<'+self.name+', '+str(self.value)+', '+str(self.weight)+'>'\n",
    "        return res\n",
    "    \n",
    "def value(item):\n",
    "    return item.getValue()\n",
    "def weightInverse(item):\n",
    "    return 1.0 / item.getWeight()\n",
    "def density(item):\n",
    "    return item.getValue()/item.getWeight()\n",
    "def buildItems():\n",
    "    names = ['clock','painting','radio','vase','book','computer']\n",
    "    vals = [175,90,20,50,10,200]\n",
    "    weights = [10,9,4,2,1,20]\n",
    "    Items = []\n",
    "    for i in range(len(vals)):\n",
    "        Items.append(Item(names[i],vals[i],weights[i]))\n",
    "    return Items\n",
    "def greedy(Items, maxWeight, keyFcn):\n",
    "    assert type(Items) == list and maxWeight >= 0\n",
    "    ItemsCopy = sorted(Items, key=keyFcn, reverse=True)\n",
    "    result = []\n",
    "    totalVal = 0.0\n",
    "    totalWeight = 0.0\n",
    "    i = 0\n",
    "    while totalWeight < maxWeight and i < len(Items):\n",
    "        if(totalWeight+ItemsCopy[i].getWeight()) <= maxWeight:\n",
    "            result.append(ItemsCopy[i])\n",
    "            totalWeight += ItemsCopy[i].getWeight()\n",
    "            totalVal += ItemsCopy[i].getValue()\n",
    "        i += 1\n",
    "    return (result,totalVal)\n",
    "def testGreedy(Items, constraint, getKey):\n",
    "    taken, val = greedy(Items, constraint, getKey)\n",
    "    print('Total value of items taken = ', str(val))\n",
    "    for item in taken:\n",
    "        print(' ',item)"
   ]
  },
  {
   "cell_type": "code",
   "execution_count": 6,
   "metadata": {},
   "outputs": [
    {
     "name": "stdout",
     "output_type": "stream",
     "text": [
      "Use greedy by value for knapsack of size maxWeight\n",
      "Total value of items taken =  200.0\n",
      "  <computer, 200, 20>\n",
      "Use greedy by weight to fill knapsack of size maxWeight\n",
      "Total value of items taken =  170.0\n",
      "  <book, 10, 1>\n",
      "  <vase, 50, 2>\n",
      "  <radio, 20, 4>\n",
      "  <painting, 90, 9>\n",
      "Use greedy by density for knapsack of size maxWeight\n",
      "Total value of items taken =  255.0\n",
      "  <vase, 50, 2>\n",
      "  <clock, 175, 10>\n",
      "  <book, 10, 1>\n",
      "  <radio, 20, 4>\n"
     ]
    }
   ],
   "source": [
    "maxWeight = 20\n",
    "Items = buildItems()\n",
    "print('Use greedy by value for knapsack of size maxWeight')\n",
    "testGreedy(Items, maxWeight, value)\n",
    "print('Use greedy by weight to fill knapsack of size maxWeight')\n",
    "testGreedy(Items,maxWeight,weightInverse)\n",
    "print('Use greedy by density for knapsack of size maxWeight')\n",
    "testGreedy(Items, maxWeight, density)"
   ]
  },
  {
   "cell_type": "code",
   "execution_count": 128,
   "metadata": {
    "collapsed": true
   },
   "outputs": [],
   "source": [
    "#From codereview.stackexchange.com                    \n",
    "def partitions(set_):\n",
    "    if not set_:\n",
    "        yield []\n",
    "        return\n",
    "    for i in range(2**len(set_)//2):\n",
    "        parts = [set(), set()]\n",
    "        for item in set_:\n",
    "            parts[i&1].add(item)\n",
    "            i >>= 1\n",
    "        for b in partitions(parts[1]):\n",
    "            yield [parts[0]]+b\n",
    "\n",
    "\n",
    "# This is a helper function that will fetch all of the available \n",
    "# partitions for you to use for your brute force algorithm.\n",
    "def get_partitions(set_):\n",
    "    for partition in partitions(set_):\n",
    "        yield [list(elt) for elt in partition]\n",
    "\n",
    "### Uncomment the following code  and run this file\n",
    "### to see what get_partitions does if you want to visualize it:\n",
    "\n",
    "# for item in (get_partitions(['a','b','c','d'])):\n",
    "#     print(len(item))"
   ]
  },
  {
   "cell_type": "code",
   "execution_count": 155,
   "metadata": {
    "collapsed": true
   },
   "outputs": [],
   "source": [
    "###########################\n",
    "# 6.00.2x Problem Set 1: Space Cows \n",
    "\n",
    "# from ps1_partition import get_partitions\n",
    "import time\n",
    "\n",
    "#================================\n",
    "# Part A: Transporting Space Cows\n",
    "#================================\n",
    "\n",
    "def load_cows(filename):\n",
    "    \"\"\"\n",
    "    Read the contents of the given file.  Assumes the file contents contain\n",
    "    data in the form of comma-separated cow name, weight pairs, and return a\n",
    "    dictionary containing cow names as keys and corresponding weights as values.\n",
    "\n",
    "    Parameters:\n",
    "    filename - the name of the data file as a string\n",
    "\n",
    "    Returns:\n",
    "    a dictionary of cow name (string), weight (int) pairs\n",
    "    \"\"\"\n",
    "\n",
    "    cow_dict = dict()\n",
    "\n",
    "    f = open(filename, 'r')\n",
    "    \n",
    "    for line in f:\n",
    "        line_data = line.split(',')\n",
    "        cow_dict[line_data[0]] = int(line_data[1])\n",
    "    return cow_dict\n",
    "\n",
    "\n",
    "# Problem 1   \n",
    "def greedy_cow_transport(cows,limit=10):\n",
    "    \"\"\"\n",
    "    Uses a greedy heuristic to determine an allocation of cows that attempts to\n",
    "    minimize the number of spaceship trips needed to transport all the cows. The\n",
    "    returned allocation of cows may or may not be optimal.\n",
    "    The greedy heuristic should follow the following method:\n",
    "\n",
    "    1. As long as the current trip can fit another cow, add the largest cow that will fit\n",
    "        to the trip\n",
    "    2. Once the trip is full, begin a new trip to transport the remaining cows\n",
    "\n",
    "    Does not mutate the given dictionary of cows.\n",
    "\n",
    "    Parameters:\n",
    "    cows - a dictionary of name (string), weight (int) pairs\n",
    "    limit - weight limit of the spaceship (an int)\n",
    "    \n",
    "    Returns:\n",
    "    A list of lists, with each inner list containing the names of cows\n",
    "    transported on a particular trip and the overall list containing all the\n",
    "    trips\n",
    "    \"\"\"\n",
    "    # TODO: Your code here\n",
    "    trips = []\n",
    "    sorted_cows = sorted(cows.items(), key=lambda x: x[1], reverse = True) # sorted by weights\n",
    "    j = 1\n",
    "    while j <= len(sorted_cows): # still has cows to transport\n",
    "        cows_per_trip = []\n",
    "        total_weight = 0\n",
    "        i = 0\n",
    "        while total_weight < limit and i < len(sorted_cows):\n",
    "            if (total_weight + sorted_cows[i][1]) <= limit:\n",
    "                cows_per_trip.append(sorted_cows[i][0])\n",
    "                total_weight += sorted_cows[i][1]\n",
    "                del sorted_cows[i] # delete element in the list, thus no need to change index\n",
    "            else:\n",
    "                i += 1 # move to next\n",
    "        # print(cows_per_trip) use for debug\n",
    "        trips.append(cows_per_trip)\n",
    "    return trips\n",
    "        \n",
    "# Problem 2\n",
    "def brute_force_cow_transport(cows,limit=10):\n",
    "    \"\"\"\n",
    "    Finds the allocation of cows that minimizes the number of spaceship trips\n",
    "    via brute force.  The brute force algorithm should follow the following method:\n",
    "\n",
    "    1. Enumerate all possible ways that the cows can be divided into separate trips\n",
    "    2. Select the allocation that minimizes the number of trips without making any trip\n",
    "        that does not obey the weight limitation\n",
    "            \n",
    "    Does not mutate the given dictionary of cows.\n",
    "\n",
    "    Parameters:\n",
    "    cows - a dictionary of name (string), weight (int) pairs\n",
    "    limit - weight limit of the spaceship (an int)\n",
    "    \n",
    "    Returns:\n",
    "    A list of lists, with each inner list containing the names of cows\n",
    "    transported on a particular trip and the overall list containing all the\n",
    "    trips\n",
    "    \"\"\"\n",
    "    # TODO: Your code here\n",
    "    all_possible_trips = [] \n",
    "\n",
    "    for item in (get_partitions(cows)): # all possible ways\n",
    "        all_possible_trips.append(item)\n",
    "        \n",
    "    sorted_trips = sorted(all_possible_trips,key=lambda x:len(x)) # sort by length\n",
    "\n",
    "    Flag = True\n",
    "    for trip in sorted_trips:\n",
    "        for transport in trip:\n",
    "            tot_weights = 0\n",
    "            for c in transport:\n",
    "                tot_weights += cows[c]\n",
    "            if tot_weights > limit:\n",
    "                Flag = False\n",
    "                break\n",
    "            Flag = True\n",
    "        if Flag:\n",
    "            return trip\n",
    "            \n",
    "        \n",
    "    \n",
    "# Problem 3\n",
    "def compare_cow_transport_algorithms():\n",
    "    \"\"\"\n",
    "    Using the data from ps1_cow_data.txt and the specified weight limit, run your\n",
    "    greedy_cow_transport and brute_force_cow_transport functions here. Use the\n",
    "    default weight limits of 10 for both greedy_cow_transport and\n",
    "    brute_force_cow_transport.\n",
    "    \n",
    "    Print out the number of trips returned by each method, and how long each\n",
    "    method takes to run in seconds.\n",
    "\n",
    "    Returns:\n",
    "    Does not return anything.\n",
    "    \"\"\"\n",
    "    # TODO: Your code here\n",
    "    start = time.time()\n",
    "    greedy_cow_transport(cows, limit)\n",
    "    end = time.time()\n",
    "    print(\"Greedy algorithm takes \" + str(end-start))\n",
    "    start = time.time()\n",
    "    brute_force_cow_transport(cows, limit)\n",
    "    end = time.time()\n",
    "    print(\"Brute force algorithm takes \" + str(end-start))"
   ]
  },
  {
   "cell_type": "code",
   "execution_count": 158,
   "metadata": {},
   "outputs": [
    {
     "name": "stdout",
     "output_type": "stream",
     "text": [
      "{'Maggie': 3, 'Herman': 7, 'Betsy': 9, 'Oreo': 6, 'Moo Moo': 3, 'Milkshake': 2, 'Millie': 5, 'Lola': 2, 'Florence': 2, 'Henrietta': 9}\n",
      "[['Betsy', 'Henrietta', 'Herman', 'Oreo', 'Millie', 'Maggie', 'Moo Moo', 'Milkshake', 'Lola', 'Florence']]\n",
      "[['Florence', 'Millie', 'Betsy', 'Milkshake', 'Henrietta', 'Moo Moo', 'Herman', 'Maggie', 'Lola', 'Oreo']]\n",
      "Greedy algorithm takes 0.0\n",
      "Brute force algorithm takes 0.9977712631225586\n"
     ]
    }
   ],
   "source": [
    "cows = load_cows(\"ps1_cow_data.txt\")\n",
    "limit=100\n",
    "print(cows)\n",
    "\n",
    "print(greedy_cow_transport(cows, limit))\n",
    "print(brute_force_cow_transport(cows, limit))\n",
    "compare_cow_transport_algorithms()"
   ]
  },
  {
   "cell_type": "markdown",
   "metadata": {},
   "source": [
    "### Graph Theory"
   ]
  },
  {
   "cell_type": "code",
   "execution_count": 2,
   "metadata": {
    "collapsed": true
   },
   "outputs": [],
   "source": [
    "class Node(object):\n",
    "    def __init__(self, name):\n",
    "        self.name = str(name)\n",
    "    def getName(self):\n",
    "        return self.name\n",
    "    def __str__(self):\n",
    "        return self.name\n",
    "    \n",
    "class Edge(object):\n",
    "    def __init__(self, src, dest):\n",
    "        self.src = src\n",
    "        self.dest = dest\n",
    "    def getSource(self):\n",
    "        return self.src\n",
    "    def getDestination(self):\n",
    "        return self.dest\n",
    "    def __str__(self):\n",
    "        return str(self.src) + '->' + str(self.dest)\n",
    "    \n",
    "class WeightedEdge(Edge):\n",
    "    def __init__(self, src, dest, weight = 1.0):\n",
    "        self.src = src\n",
    "        self.dest = dest\n",
    "        self.weight = weight\n",
    "    def getWeight(self):\n",
    "        return self.weight\n",
    "    def __str__(self):\n",
    "        return str(self.src)+'->('+str(self.weight)+')'+str(self.dest)"
   ]
  },
  {
   "cell_type": "code",
   "execution_count": 24,
   "metadata": {
    "collapsed": true
   },
   "outputs": [],
   "source": [
    "class Digraph(object):\n",
    "    \"\"\"edges is a dictionary mapping each node to a list of its children\"\"\"\n",
    "    def __init__(self):\n",
    "        self.nodes = []\n",
    "        self.edges = {}\n",
    "    def addNode(self, node):\n",
    "        if node in self.nodes:\n",
    "            raise ValueError('Duplicate node')\n",
    "        else:\n",
    "            self.nodes.append(node)\n",
    "            self.edges[node] = []\n",
    "            \n",
    "    def getNode(self,name):\n",
    "        for node in self.nodes:\n",
    "            if node.getName() == name:\n",
    "                return node\n",
    "            \n",
    "    def addEdge(self, edge):\n",
    "        src = edge.getSource()\n",
    "#         print(src in self.nodes)\n",
    "        dest = edge.getDestination()\n",
    "#         print(dest in self.nodes)\n",
    "        if not(src in self.nodes and dest in self.nodes):\n",
    "            raise ValueError('Node not in graph')\n",
    "        self.edges[src].append(dest)\n",
    "        \n",
    "    def childrenOf(self, node):\n",
    "        return self.edges[node]\n",
    "    \n",
    "    def hasNode(self, node):\n",
    "        return node in self.nodes\n",
    "    \n",
    "    def __str__(self):\n",
    "        res = ''\n",
    "        for k in self.edges:\n",
    "            for d in self.edges[k]:\n",
    "                res += str(k)+'->'+str(d)+'\\n'\n",
    "        return res[:-1]\n",
    "\n",
    "class Graph(Digraph):\n",
    "    def addEdge(self, edge):\n",
    "        Digraph.addEdge(self,edge)\n",
    "        rev = Edge(edge.getDestination(),edge.getSource())\n",
    "        Digraph.addEdge(self, rev)"
   ]
  },
  {
   "cell_type": "code",
   "execution_count": 26,
   "metadata": {},
   "outputs": [
    {
     "name": "stdout",
     "output_type": "stream",
     "text": [
      "Chicago->Denver\n",
      "Chicago->Phoenix\n",
      "Denver->Phoenix\n",
      "Denver->New York\n",
      "Boston->Providence\n",
      "Boston->New York\n",
      "Providence->Boston\n",
      "Providence->New York\n",
      "Los Angeles->Boston\n",
      "New York->Chicago\n"
     ]
    }
   ],
   "source": [
    "# build the graph\n",
    "g = Digraph()\n",
    "cities = ['Boston','Providence','New York','Chicago','Denver','Phoenix','Los Angeles']\n",
    "\n",
    "for city in cities:\n",
    "    g.addNode(Node(city))\n",
    "\n",
    "g.addEdge(Edge(g.getNode('Boston'),g.getNode('Providence')))    \n",
    "g.addEdge(Edge(g.getNode('Boston'),g.getNode('New York')))\n",
    "g.addEdge(Edge(g.getNode('Providence'),g.getNode('Boston')))\n",
    "g.addEdge(Edge(g.getNode('Providence'),g.getNode('New York')))\n",
    "g.addEdge(Edge(g.getNode('New York'),g.getNode('Chicago')))\n",
    "g.addEdge(Edge(g.getNode('Chicago'),g.getNode('Denver')))\n",
    "g.addEdge(Edge(g.getNode('Denver'),g.getNode('Phoenix')))\n",
    "g.addEdge(Edge(g.getNode('Denver'),g.getNode('New York')))\n",
    "g.addEdge(Edge(g.getNode('Chicago'),g.getNode('Phoenix')))\n",
    "g.addEdge(Edge(g.getNode('Los Angeles'),g.getNode('Boston')))\n",
    "print(g)"
   ]
  },
  {
   "cell_type": "code",
   "execution_count": 39,
   "metadata": {},
   "outputs": [
    {
     "name": "stdout",
     "output_type": "stream",
     "text": [
      "CBA->BCA\n",
      "CBA->CAB\n",
      "BCA->BAC\n",
      "BCA->CBA\n",
      "ACB->ABC\n",
      "ACB->CAB\n",
      "ABC->ACB\n",
      "ABC->BAC\n",
      "BAC->ABC\n",
      "BAC->BCA\n",
      "CAB->ACB\n",
      "CAB->CBA\n"
     ]
    }
   ],
   "source": [
    "# exericse: build the graph\n",
    "# nodes represent permutations of the students in line, edges connect \n",
    "# two permutations if one can be made into the other by swapping two adjacent students\n",
    "\n",
    "def is_permutation(str_a,str_b):\n",
    "#     print(str_a,str_b)\n",
    "    for i in range(len(str_a)-1):\n",
    "        lst_a = list(str_a)\n",
    "        tmp = lst_a[i]\n",
    "        lst_a[i] = lst_a[i+1]\n",
    "        lst_a[i+1] = tmp\n",
    "        adj_perm = \"\".join(e for e in lst_a)\n",
    "#         print(adj_perm)\n",
    "        if adj_perm == str_b:\n",
    "#             print(\"Adjacent Permutation Found\")\n",
    "            return True\n",
    "#     print(\"Adjacent Permutation Not Found\")\n",
    "    return False\n",
    "        \n",
    "    \n",
    "# create nodes in the graph\n",
    "nodes = [Node(\"ABC\"),Node(\"ACB\"),Node(\"BAC\"),Node(\"BCA\"),Node(\"CAB\"),Node(\"CBA\")]\n",
    "g = Graph()\n",
    "for n in nodes:\n",
    "    g.addNode(n)\n",
    "# create edges in the graph\n",
    "for i in range(len(nodes)):\n",
    "    for j in range(i+1,len(nodes)):\n",
    "        if is_permutation(nodes[i].getName(),nodes[j].getName()):\n",
    "            g.addEdge(Edge(nodes[i],nodes[j]))\n",
    "print(g)\n"
   ]
  },
  {
   "cell_type": "markdown",
   "metadata": {},
   "source": [
    "### Depth First Search (DFS)"
   ]
  },
  {
   "cell_type": "code",
   "execution_count": 109,
   "metadata": {
    "collapsed": true
   },
   "outputs": [],
   "source": [
    "def printPath(path):\n",
    "    \"\"\"a path is a list of nodes\"\"\"\n",
    "    result = ''\n",
    "    for i in range(len(path)):\n",
    "        if i == len(path) - 1:\n",
    "            result += str(path[i])\n",
    "        else:\n",
    "            result += str(path[i]) + '->'\n",
    "    return result\n",
    "\n",
    "def DFS(graph, start, end, path = None, shortest = None):\n",
    "    \"\"\"assumes graph is a Digraph, start and end are nodes in graph\"\"\"\n",
    "    if path == None:\n",
    "        path = []\n",
    "    path = path + [start]\n",
    "    if start == end:\n",
    "        return path\n",
    "    for node in graph.childrenOf(start):\n",
    "        if node not in path: # avoid cycles in graph\n",
    "            if shortest == None or len(path) < len(shortest):\n",
    "                newPath = DFS(graph, node,end,path,shortest)\n",
    "                if newPath != None:\n",
    "                    shortest = newPath\n",
    "    return shortest"
   ]
  },
  {
   "cell_type": "code",
   "execution_count": 110,
   "metadata": {},
   "outputs": [
    {
     "name": "stdout",
     "output_type": "stream",
     "text": [
      "Shortest path found by DFS:  0->2->3->5\n"
     ]
    }
   ],
   "source": [
    "# test DFS\n",
    "nodes = []\n",
    "for name in range(10):\n",
    "    nodes.append(Node(str(name)))\n",
    "g = Digraph()\n",
    "for n in nodes:\n",
    "    g.addNode(n)\n",
    "    \n",
    "g.addEdge(Edge(g.getNode('0'),g.getNode('1')))\n",
    "g.addEdge(Edge(g.getNode('1'),g.getNode('2')))\n",
    "g.addEdge(Edge(g.getNode('2'),g.getNode('3')))\n",
    "g.addEdge(Edge(g.getNode('2'),g.getNode('4')))\n",
    "g.addEdge(Edge(g.getNode('3'),g.getNode('4')))\n",
    "g.addEdge(Edge(g.getNode('3'),g.getNode('5')))\n",
    "g.addEdge(Edge(g.getNode('0'),g.getNode('2')))\n",
    "g.addEdge(Edge(g.getNode('1'),g.getNode('0')))\n",
    "g.addEdge(Edge(g.getNode('3'),g.getNode('1')))\n",
    "g.addEdge(Edge(g.getNode('4'),g.getNode('0')))\n",
    "# g.addEdge(Edge(nodes[0],nodes[1]))\n",
    "# g.addEdge(Edge(nodes[1],nodes[2]))\n",
    "# g.addEdge(Edge(nodes[2],nodes[3]))\n",
    "# g.addEdge(Edge(nodes[2],nodes[4]))\n",
    "# g.addEdge(Edge(nodes[3],nodes[4]))\n",
    "# g.addEdge(Edge(nodes[3],nodes[5]))\n",
    "# g.addEdge(Edge(nodes[0],nodes[2]))\n",
    "# g.addEdge(Edge(nodes[1],nodes[0]))\n",
    "# g.addEdge(Edge(nodes[3],nodes[1]))\n",
    "# g.addEdge(Edge(nodes[4],nodes[0]))\n",
    "\n",
    "# print(g)\n",
    "\n",
    "# shortest = DFS(g, nodes[0], nodes[5])\n",
    "shortest = DFS(g, g.getNode('0'),g.getNode('5'))\n",
    "print('Shortest path found by DFS: ', printPath(shortest))"
   ]
  },
  {
   "cell_type": "markdown",
   "metadata": {},
   "source": [
    "### Breadth First Search (BFS)"
   ]
  },
  {
   "cell_type": "code",
   "execution_count": null,
   "metadata": {
    "collapsed": true
   },
   "outputs": [],
   "source": [
    "def BFS(graph, start, end, path_q = None):\n",
    "    init_p = [start]\n",
    "    path_q.append(init_p)\n",
    "    while len(path_q) != 0:\n",
    "        tmp_p = path_q.pop(0)\n",
    "        last_node == tmp_p[len(tmp_p) - 1] # ??\n",
    "        print('Current BFS path:', printPath(tmp_p))\n",
    "        if last_node == end:\n",
    "            return tmp_p\n",
    "        for link_node in graph.childrenOf(last_node):\n",
    "            if link_node not in tmp_p:\n",
    "                new_p = tmp_p + [linkNode]\n",
    "                path_q.append(new_p)\n",
    "    return None"
   ]
  },
  {
   "cell_type": "markdown",
   "metadata": {},
   "source": [
    "### Pylab"
   ]
  },
  {
   "cell_type": "code",
   "execution_count": 1,
   "metadata": {
    "collapsed": true
   },
   "outputs": [],
   "source": [
    "import pylab as plt\n",
    "\n",
    "plt.figure('lin quad')\n",
    "plt.clf()\n",
    "plt.subplot(211)\n",
    "plt.ylim(0,900)\n",
    "plt.yscale('log')\n",
    "plt.plot(x,y,'b--',label='linear',linewidth=2)\n",
    "plt.subplot(212)\n",
    "plt.ylim(0,900)\n",
    "plt.yscale('log')\n",
    "plt.plot(x,z,'r-',label='qudradic',linewidth=1.5)\n",
    "plt.legend('upper left')\n",
    "plt.title('linear vs quadradic')"
   ]
  },
  {
   "cell_type": "markdown",
   "metadata": {},
   "source": [
    "### Random Processes "
   ]
  },
  {
   "cell_type": "code",
   "execution_count": 7,
   "metadata": {
    "collapsed": true
   },
   "outputs": [],
   "source": [
    "import random\n",
    "\n",
    "def genEven():\n",
    "    '''\n",
    "    Returns a random number x, where 0 <= x < 100\n",
    "    '''\n",
    "    \n",
    "    return random.randint(0,49) * 2\n",
    "\n",
    "def dist1():\n",
    "    \"\"\"\n",
    "    Uniform distributed between [-1,1)\n",
    "    \"\"\"\n",
    "    return random.random() * 2 - 1\n",
    "\n",
    "def dist2():\n",
    "    \"\"\"\n",
    "    Uniform distributed between [-1,1)\n",
    "    \"\"\"\n",
    "    if random.random() > 0.5:\n",
    "        return random.random()\n",
    "    else:\n",
    "        return random.random() - 1 \n",
    "\n",
    "def test():\n",
    "    for _ in range(20):\n",
    "        print(dist2())\n",
    "        \n",
    "# test()"
   ]
  },
  {
   "cell_type": "markdown",
   "metadata": {},
   "source": [
    "### Random Walks and Simulations"
   ]
  },
  {
   "cell_type": "code",
   "execution_count": 37,
   "metadata": {},
   "outputs": [],
   "source": [
    "import math\n",
    "\n",
    "class Location(object):\n",
    "    def __init__(self,x,y):\n",
    "        \"\"\"x, y are floats\"\"\"\n",
    "        self.x = x\n",
    "        self.y = y\n",
    "    \n",
    "    def move(self, deltaX, deltaY):\n",
    "        \"\"\"deltaX, deltaY are floats\"\"\"\n",
    "        return Location(self.x+deltaX, self.y+deltaY)\n",
    "    \n",
    "    def get_x(self):\n",
    "        return self.x\n",
    "    def get_y(self):\n",
    "        return self.y\n",
    "    \n",
    "    def dist_from(self, other):\n",
    "        x_dist = self.x - other.get_x()\n",
    "        y_dist = self.y - other.get_y()\n",
    "        return (x_dist**2 + y_dist**2)**0.5\n",
    "    \n",
    "    def __str__(self):\n",
    "        return '<'+str(self.x)+', '+str(self.y)+'>'\n",
    "    \n",
    "class Field(object):\n",
    "    def __init__(self):\n",
    "        self.drunks = {}\n",
    "    \n",
    "    def add_drunk(self, drunk, loc):\n",
    "        if drunk in self.drunks:\n",
    "            raise KeyError('Duplicate drunk in drunks')\n",
    "        else:\n",
    "            self.drunks[drunk] = loc\n",
    "            \n",
    "    def get_loc(self, drunk):\n",
    "        if drunk not in self.drunks:\n",
    "            raise KeyError('No such drunk not in drunks')\n",
    "        return self.drunks[drunk]\n",
    "    \n",
    "    def move_drunk(self, drunk):\n",
    "        if drunk not in self.drunks:\n",
    "            raise ValueError('Drunk not in drunks')\n",
    "        x_dist, y_dist = drunk.take_step()\n",
    "        current_loc = self.drunks[drunk]\n",
    "        self.drunks[drunk] = current_loc.move(x_dist, y_dist)\n",
    "        \n",
    "class Drunk(object):\n",
    "    def __init__(self,name=None):\n",
    "        self.name = name\n",
    "    def __str__(self):\n",
    "        return 'This drunk is named ' + self.name\n",
    "    \n",
    "import random\n",
    "\n",
    "class UsualDrunk(Drunk):\n",
    "    def take_step(self):\n",
    "        step_choices = [(0.0,1.0),(0.0,-1.0),(1.0,0),(-1.0,0)]\n",
    "        return random.choice(step_choices)\n",
    "\n",
    "class ColdDrunk(Drunk):\n",
    "    def take_step(self):\n",
    "        step_choices = [(0.0,0.9),(0.0,-1.03),(1.03,0),(-1.03,0)]\n",
    "        return random.choice(step_choices)\n",
    "\n",
    "class EDrunk(Drunk):\n",
    "    def take_step(self):\n",
    "        ang = 2 * math.pi * random.random()\n",
    "        length = 0.5 + 0.5 * random.random()\n",
    "        return (length * math.sin(ang), length * math.cos(ang))\n",
    "    \n",
    "class PhotoDrunk(Drunk):\n",
    "    def take_step(self):\n",
    "        step_choices = [(0.0,0.5),(0.0,-0.5),(1.5,0.0),(-1.5,0.0)]\n",
    "        return random.choice(step_choices)\n",
    "    \n",
    "class DDrunk(Drunk):\n",
    "    def take_step(self):\n",
    "        step_choices = [(0.85,0.85),(-0.85,-0.85),(-0.56, 0.56),(0.56,-0.56)]\n",
    "        return random.choice(step_choices)"
   ]
  },
  {
   "cell_type": "code",
   "execution_count": 38,
   "metadata": {},
   "outputs": [],
   "source": [
    "# simulation of a single walk\n",
    "def walk(field, drunk, num_steps):\n",
    "    \"\"\"\n",
    "    Assumes: num_steps >= 0\n",
    "    Returns: the distance between the final location and the location at the start of the walk\n",
    "    \"\"\"\n",
    "    start = field.get_loc(drunk)\n",
    "    # drunk move num_steps step\n",
    "    for _ in range(num_steps):\n",
    "        field.move_drunk(drunk)\n",
    "    return start.dist_from(field.get_loc(drunk))\n",
    "\n",
    "# simulation of multiple walks\n",
    "def walks(num_steps, num_trials,drunk):\n",
    "    \"\"\"\n",
    "    simulates num_trials walks of num_steps.\n",
    "    returns a list of distances for each trial.\n",
    "    \"\"\"\n",
    "    # drunk = subDrunk()\n",
    "    origin = Location(3,0)\n",
    "    distances = []\n",
    "    for t in range(num_trials):\n",
    "        f = Field()\n",
    "        f.add_drunk(drunk, origin)\n",
    "        distances.append(round(walk(f,drunk,num_steps),1))\n",
    "    return distances\n",
    "\n",
    "# testing\n",
    "def drunk_test(walk_lengths, num_trials, subDrunk):\n",
    "    \"\"\"\n",
    "    For each number of steps in walk_lengths run walks with num_trilas walks and print the results.\n",
    "    \"\"\"\n",
    "    drunk = subDrunk(\"1\") # instantiate the Drunk subclasses\n",
    "    for num_steps in walk_lengths:\n",
    "        distances = walks(num_steps,num_trials,drunk)\n",
    "        print(subDrunk.__name__, 'random walk of',num_steps, 'steps')\n",
    "        print('Mean = ', round(sum(distances)/len(distances),4))\n",
    "        print('Max = ', max(distances),'Min = ', min(distances))\n",
    "        \n",
    "def sim_all(drunkKinds, walk_lengths, num_trials):\n",
    "    for subDrunk in drunkKinds:\n",
    "        drunk_test(walk_lengths, num_trials, subDrunk)"
   ]
  },
  {
   "cell_type": "code",
   "execution_count": 39,
   "metadata": {},
   "outputs": [
    {
     "name": "stdout",
     "output_type": "stream",
     "text": [
      "UsualDrunk random walk of 1 steps\n",
      "Mean =  1.0\n",
      "Max =  1.0 Min =  1.0\n",
      "UsualDrunk random walk of 10 steps\n",
      "Mean =  2.948\n",
      "Max =  7.2 Min =  0.0\n",
      "UsualDrunk random walk of 100 steps\n",
      "Mean =  8.453\n",
      "Max =  21.6 Min =  1.4\n",
      "UsualDrunk random walk of 1000 steps\n",
      "Mean =  27.138\n",
      "Max =  72.8 Min =  1.4\n",
      "UsualDrunk random walk of 10000 steps\n",
      "Mean =  90.661\n",
      "Max =  222.9 Min =  5.1\n",
      "ColdDrunk random walk of 1 steps\n",
      "Mean =  0.973\n",
      "Max =  1.0 Min =  0.9\n",
      "ColdDrunk random walk of 10 steps\n",
      "Mean =  2.76\n",
      "Max =  6.6 Min =  0.1\n",
      "ColdDrunk random walk of 100 steps\n",
      "Mean =  9.058\n",
      "Max =  21.6 Min =  1.0\n",
      "ColdDrunk random walk of 1000 steps\n",
      "Mean =  39.635\n",
      "Max =  93.5 Min =  1.4\n",
      "ColdDrunk random walk of 10000 steps\n",
      "Mean =  323.271\n",
      "Max =  473.0 Min =  155.6\n"
     ]
    }
   ],
   "source": [
    "random.seed(0)\n",
    "sim_all((UsualDrunk, ColdDrunk),(1,10,100,1000,10000),100)"
   ]
  },
  {
   "cell_type": "markdown",
   "metadata": {},
   "source": [
    "### Visualizations"
   ]
  },
  {
   "cell_type": "code",
   "execution_count": 41,
   "metadata": {},
   "outputs": [],
   "source": [
    "import pylab as plt\n",
    "\n",
    "class styleIterator(object):\n",
    "    def __init__(self, styles):\n",
    "        self.index = 0\n",
    "        self.styles = styles\n",
    "        \n",
    "    def next_style(self):\n",
    "        result = self.styles[self.index]\n",
    "        if self.index == len(self.styles)-1:\n",
    "            self.index = 0\n",
    "        else:\n",
    "            self.index += 1\n",
    "        return result\n",
    "\n",
    "def sim_drunk(num_trials, subDrunk, walk_lengths):\n",
    "    drunk = subDrunk()\n",
    "    mean_distances = []\n",
    "    for num_steps in walk_lengths:\n",
    "        print(\"Starting simulation of\",num_steps,\"steps\")\n",
    "        distances = walks(num_steps,num_trials,drunk)\n",
    "        mean = sum(distances)/len(distances)\n",
    "        mean_distances.append(mean)\n",
    "    return mean_distances\n",
    "\n",
    "def sim_all_viz(drunkKinds, walk_lengths, num_trials):\n",
    "    style_choice = styleIterator(('m-','b--','g-.'))\n",
    "    for subDrunk in drunkKinds:\n",
    "        cur_style = style_choice.next_style()\n",
    "        print('Starting simulation of', subDrunk.__name__)\n",
    "        means = sim_drunk(num_trials, subDrunk, walk_lengths)\n",
    "        plt.plot(walk_lengths, means, cur_style, label = subDrunk.__name__)\n",
    "    plt.title('Mean Distance from Origin ('+str(num_trials)+' trials')\n",
    "    plt.xlabel('Number of Steps')\n",
    "    plt.ylabel('Distance from Origin')\n",
    "    plt.legend(loc='best')\n",
    "    # plt.show()\n",
    "    \n",
    "def get_final_locs(num_steps, num_trials, drunk):\n",
    "    locs = []\n",
    "#     drunk = subDrunk()\n",
    "    for _ in range(num_trials):\n",
    "        f = Field()\n",
    "        f.add_drunk(drunk, Location(10,0))\n",
    "        for s in range(num_steps):\n",
    "            f.move_drunk(drunk)\n",
    "        locs.append(f.get_loc(drunk))\n",
    "    return locs\n",
    "\n",
    "def plot_locs(drunkKinds, num_steps, num_trials):\n",
    "    style_choice = styleIterator(('k+','r^','mo','bx','gs'))\n",
    "    for subDrunk in drunkKinds:\n",
    "        drunk = subDrunk()\n",
    "        locs = get_final_locs(num_steps, num_trials, drunk)\n",
    "        x_vals, y_vals = [], []\n",
    "        for loc in locs:\n",
    "            x_vals.append(loc.get_x())\n",
    "            y_vals.append(loc.get_y())\n",
    "        x_vals = plt.array(x_vals)\n",
    "        y_vals = plt.array(y_vals)\n",
    "        mean_x = sum(abs(x_vals))/len(x_vals)\n",
    "        mean_y = sum(abs(y_vals))/len(y_vals)\n",
    "        cur_style = style_choice.next_style()\n",
    "        plt.plot(x_vals, y_vals, cur_style, label=subDrunk.__name__+\\\n",
    "                'mean abs distance = <' + str(mean_x)+ ', ' + str(mean_y) + '>')\n",
    "    plt.title('Location at the end of Walks (' + str(num_steps) + ' steps)')\n",
    "    plt.ylim(-1000,1000)\n",
    "    plt.xlim(-1000,1000)\n",
    "    plt.xlabel('Steps East/West of Origin')\n",
    "    plt.ylabel('Steps North/South of Origin')\n",
    "    plt.legend(loc = 'upper left')"
   ]
  },
  {
   "cell_type": "code",
   "execution_count": 43,
   "metadata": {},
   "outputs": [
    {
     "data": {
      "image/png": "[encoded data removed]",
      "text/plain": [
       "<matplotlib.figure.Figure at 0x266f8bab668>"
      ]
     },
     "metadata": {},
     "output_type": "display_data"
    }
   ],
   "source": [
    "%matplotlib inline\n",
    "\n",
    "# num_steps = (10,100,1000,10000)\n",
    "# sim_all_viz((UsualDrunk,ColdDrunk), num_steps, 100)\n",
    "\n",
    "random.seed(0)\n",
    "plot_locs((UsualDrunk,EDrunk),10000,1000)"
   ]
  },
  {
   "cell_type": "markdown",
   "metadata": {
    "collapsed": true
   },
   "source": [
    "### Inferential Statistics"
   ]
  },
  {
   "cell_type": "markdown",
   "metadata": {},
   "source": [
    "**Population: ** a set of examples <br>\n",
    "**Sample: ** a proper subset of a population <br>\n",
    "**Goal: ** Estimate some statistic about the population based on stats about the sample  <br>\n",
    "**Key fact: ** If the sample is random, it tends to exhibit the same properties as the population from which it is drawn <br>\n",
    "**Confidence: ** depends on (1) size of sample; (2) variance of sample; (3) as the variance grows, we need larger samples to have the same degree of confidence <br>\n",
    "**Confidence Interval: ** provides a range that is likely to contain the unknown value and a confidence (level) that the unknown value lays within that range\n",
    "**Empirical Rule: ** Assume (1) the mean estimation error is zero and (2) the distribution of the errors in the estimates is normal, then <br>\n",
    "- ~68% of data within 1 std of $\\mu$\n",
    "- ~95% of data within 2 std of $\\mu$\n",
    "- ~99.7 of data within 3 std of $\\mu$\n",
    "    "
   ]
  },
  {
   "cell_type": "code",
   "execution_count": 3,
   "metadata": {},
   "outputs": [
    {
     "name": "stdout",
     "output_type": "stream",
     "text": [
      "\n",
      "Simulate betting a pocket for 20 trials of 100 spins each\n",
      "Exp. return for Fair Rouette = 6.199999999999998%\n",
      "Exp. return for European Roulette = -8.200000000000001%\n",
      "Exp. return for American Roulette = 2.599999999999998%\n",
      "\n",
      "Simulate betting a pocket for 20 trials of 1000 spins each\n",
      "Exp. return for Fair Rouette = 4.760000000000002%\n",
      "Exp. return for European Roulette = -2.4399999999999995%\n",
      "Exp. return for American Roulette = -9.46%\n",
      "\n",
      "Simulate betting a pocket for 20 trials of 10000 spins each\n",
      "Exp. return for Fair Rouette = -1.3060000000000003%\n",
      "Exp. return for European Roulette = -4.095999999999999%\n",
      "Exp. return for American Roulette = -5.698000000000001%\n",
      "\n",
      "Simulate betting a pocket for 20 trials of 100000 spins each\n",
      "Exp. return for Fair Rouette = 0.7982%\n",
      "Exp. return for European Roulette = -2.5876000000000006%\n",
      "Exp. return for American Roulette = -5.134600000000001%\n"
     ]
    }
   ],
   "source": [
    "import random\n",
    "\n",
    "class FairRoulette():\n",
    "    def __init__(self):\n",
    "        self.pockets = []\n",
    "        for i in range(1,37):\n",
    "            self.pockets.append(i)\n",
    "        self.ball = None\n",
    "        self.blackOdds, self.redOdds = 1.0, 1.0\n",
    "        self.pocketOdds = len(self.pockets) - 1.0\n",
    "    def spin(self):\n",
    "        self.ball = random.choice(self.pockets)\n",
    "    def isBlack(self):\n",
    "        if type(self.ball) != int:\n",
    "            return False\n",
    "        if (self.ball > 0 and self.ball <= 10) or \\\n",
    "            (self.ball > 18 and self.ball <= 28):\n",
    "                return self.ball % 2 == 0\n",
    "        else:\n",
    "            return self.ball % 2 == 1\n",
    "    def isRed(self):\n",
    "        return type(self.ball) == int and not self.isBlack()\n",
    "    def betBlack(self, amt):\n",
    "        if self.isBlack():\n",
    "            return amt * self.blackOdds\n",
    "        else:\n",
    "            return -amt * self.blackOdds\n",
    "    def betRed(self, amt):\n",
    "        if self.isRed():\n",
    "            return amt * self.redOdds\n",
    "        else:\n",
    "            return -amt * self.redOdds\n",
    "    def betPocket(self, pocket, amt):\n",
    "        if str(pocket) == str(self.ball):\n",
    "            return amt * self.pocketOdds\n",
    "        else:\n",
    "            return -amt\n",
    "    def __str__(self):\n",
    "        return 'Fair Rouette'\n",
    "\n",
    "def playRoulette(game, numSpins, toPrint = True):\n",
    "    luckyNumber = '2'\n",
    "    bet = 1\n",
    "    totRed, totBlack, totPocket = 0.0, 0.0, 0.0\n",
    "    for i in range(numSpins):\n",
    "        game.spin()\n",
    "        totRed += game.betRed(bet)\n",
    "        totBlack += game.betBlack(bet)\n",
    "        totPocket += game.betPocket(luckyNumber, bet)\n",
    "    if toPrint:\n",
    "        print(numSpins, 'spins of', game)\n",
    "        print('Expected return betting red = ' + str(100*totRed/numSpins) + '%')\n",
    "        print('Expected return betting black = ' + str(100*totBlack/numSpins) + '%')\n",
    "        print('Expected return betting ' + luckyNumber + ' = ' + str(100*totPocket/numSpins) + ' %\\n')\n",
    "    return (totRed/numSpins, totBlack/numSpins, totPocket/numSpins)\n",
    "\n",
    "class EuRoulette(FairRoulette):\n",
    "    def __init__(self):\n",
    "        FairRoulette.__init__(self)\n",
    "        self.pockets.append('0')\n",
    "    def __str__(self):\n",
    "        return 'European Roulette'\n",
    "\n",
    "class AmRoulette(EuRoulette):\n",
    "    def __init__(self):\n",
    "        EuRoulette.__init__(self)\n",
    "        self.pockets.append('00')\n",
    "    def __str__(self):\n",
    "        return 'American Roulette'\n",
    "    \n",
    "def findPocketReturn(game, numTrials, trialSize, toPrint):\n",
    "    pocketReturns = []\n",
    "    for t in range(numTrials):\n",
    "        trialVals = playRoulette(game, trialSize, toPrint)\n",
    "        pocketReturns.append(trialVals[2])\n",
    "    return pocketReturns\n",
    "\n",
    "random.seed(0)\n",
    "numTrials = 20\n",
    "resultDict = {}\n",
    "games = (FairRoulette, EuRoulette, AmRoulette)\n",
    "for G in games:\n",
    "    resultDict[G().__str__()] = []\n",
    "for numSpins in (100, 1000, 10000, 100000):\n",
    "    print('\\nSimulate betting a pocket for', numTrials, 'trials of', numSpins, 'spins each')\n",
    "    for G in games:\n",
    "        pocketReturns = findPocketReturn(G(), numTrials, numSpins, False)\n",
    "        print('Exp. return for', G(), '=',\n",
    "             str(100*sum(pocketReturns)/float(len(pocketReturns))) + '%')\n",
    "def getMeanAndStd(X):\n",
    "    mean = sum(X) / float(len(X))\n",
    "    tot = 0.0\n",
    "    for x in X:\n",
    "        tot += (x - mean) ** 2\n",
    "    std = (tot/len(X)) ** 0.5\n",
    "    return mean, std"
   ]
  },
  {
   "cell_type": "code",
   "execution_count": 4,
   "metadata": {},
   "outputs": [
    {
     "name": "stdout",
     "output_type": "stream",
     "text": [
      "1000000 spins of Fair Rouette\n",
      "Expected return betting red = -0.0222%\n",
      "Expected return betting black = 0.0222%\n",
      "Expected return betting 2 = 0.1592 %\n",
      "\n"
     ]
    },
    {
     "data": {
      "text/plain": [
       "(-0.000222, 0.000222, 0.001592)"
      ]
     },
     "execution_count": 4,
     "metadata": {},
     "output_type": "execute_result"
    }
   ],
   "source": [
    "numSpins = 1000000\n",
    "game = FairRoulette()\n",
    "playRoulette(game, numSpins)"
   ]
  },
  {
   "cell_type": "code",
   "execution_count": 1,
   "metadata": {},
   "outputs": [
    {
     "data": {
      "text/plain": [
       "0.5034317492677621"
      ]
     },
     "execution_count": 1,
     "metadata": {},
     "output_type": "execute_result"
    }
   ],
   "source": [
    "import math\n",
    "L = [10,4,12,15,20,5]\n",
    "mean = sum(L) / len(L)\n",
    "std = math.sqrt(sum([(x-mean) ** 2 for x in L])/len(L))\n",
    "\n",
    "std / mean\n"
   ]
  },
  {
   "cell_type": "code",
   "execution_count": 5,
   "metadata": {},
   "outputs": [
    {
     "name": "stdout",
     "output_type": "stream",
     "text": [
      "0.2\n",
      "0.16\n",
      "0.265\n",
      "0.2474\n",
      "0.25019\n"
     ]
    }
   ],
   "source": [
    "import numpy as np\n",
    "\n",
    "def noReplacementSimulation(numTrials):\n",
    "    '''\n",
    "    Runs numTrials trials of a Monte Carlo simulation\n",
    "    of drawing 3 balls out of a bucket containing\n",
    "    3 red and 3 green balls. Balls are not replaced once\n",
    "    drawn. Returns the a decimal - the fraction of times 3 \n",
    "    balls of the same color were drawn.\n",
    "    '''\n",
    "    result = 0\n",
    "    for _ in range(numTrials):\n",
    "        balls = [1,1,1,0,0,0]\n",
    "        balls_chosen = [-1] * 3\n",
    "        for i in range(3):\n",
    "            balls_chosen[i] = np.random.choice(balls, replace=False)\n",
    "        if balls_chosen[0] == balls_chosen[1] and balls_chosen[1] == balls_chosen[2]:\n",
    "            result += 1\n",
    "    return result / numTrials\n",
    "\n",
    "numTrials = [10,100,1000,10000,100000]\n",
    "for num in numTrials:\n",
    "    print(noReplacementSimulation(num))"
   ]
  },
  {
   "cell_type": "markdown",
   "metadata": {
    "collapsed": true
   },
   "source": [
    "### Sampling"
   ]
  },
  {
   "cell_type": "code",
   "execution_count": 19,
   "metadata": {},
   "outputs": [
    {
     "name": "stdout",
     "output_type": "stream",
     "text": [
      "Mean of SAMPLE MEANS =  16.282\n",
      "Standard Deviation of SAMPLE MEANS =  0.662\n",
      "Standard Deviation of Population =  9.4375585448\n",
      "Maximum difference in means = 2.52\n",
      "Maximum difference in sd =  1.281\n"
     ]
    },
    {
     "data": {
      "text/plain": [
       "<matplotlib.lines.Line2D at 0x23ceec0fac8>"
      ]
     },
     "execution_count": 19,
     "metadata": {},
     "output_type": "execute_result"
    },
    {
     "data": {
      "image/png": "[encoded data removed]",
      "text/plain": [
       "<matplotlib.figure.Figure at 0x23ceec00fd0>"
      ]
     },
     "metadata": {},
     "output_type": "display_data"
    }
   ],
   "source": [
    "import random, pylab\n",
    "import numpy as np\n",
    "\n",
    "%matplotlib inline\n",
    "\n",
    "def make_hist(data, title, xlabel, ylabel, bins = 20):\n",
    "    pylab.hist(data, bins=bins)\n",
    "    pylab.title(title)\n",
    "    pylab.xlabel(xlabel)\n",
    "    pylab.ylabel(ylabel)\n",
    "    \n",
    "def get_highs():\n",
    "    in_file = open('./asset-lecture9-segment1/temperatures.csv')\n",
    "    population = []\n",
    "    for line in in_file:\n",
    "        try:\n",
    "            temp_c = float(line.split(',')[1])\n",
    "            population.append(temp_c)\n",
    "        except:\n",
    "            continue\n",
    "    return population\n",
    "\n",
    "def get_means_and_sds(population, sample, verbose=False):\n",
    "    population_mean = sum(population) / len(population)\n",
    "    sample_mean = sum(sample) / len(sample)\n",
    "    if verbose:\n",
    "        make_hist(population, 'Daily High 1961-2015, Population\\n' + \\\n",
    "                 '(mean = ' + str(round(population_mean,2)) + ')',\\\n",
    "                 'Degrees C', 'Number Days')\n",
    "        pylab.axvline(x=population_mean, color='r')\n",
    "        \n",
    "        pylab.figure()\n",
    "        make_hist(sample, 'Daily High 1961-2015, Population\\n' + \\\n",
    "                 '(mean = ' + str(round(sample_mean,2)) + ')',\\\n",
    "                 'Degrees C', 'Number Days')\n",
    "        pylab.axvline(x=sample_mean, color='r')\n",
    "        \n",
    "        print('Population mean = ', population_mean)\n",
    "        print('Standard deviation of population = ', np.std(population))\n",
    "        print('Sample mean = ', sample_mean)\n",
    "        print('Standard deviation of sample =', np.std(sample))\n",
    "    return population_mean, sample_mean, np.std(population), np.std(sample)\n",
    "\n",
    "random.seed(0)\n",
    "population = get_highs()\n",
    "sample_size = 200\n",
    "num_samples = 1000\n",
    "max_mean_diff, max_sd_diff = 0, 0\n",
    "sample_means = []\n",
    "\n",
    "for _ in range(num_samples):\n",
    "    sample = random.sample(population,sample_size)\n",
    "    pop_mean, samp_mean, pop_sd, samp_sd = get_means_and_sds(population, sample, False)\n",
    "    sample_means.append(samp_mean)\n",
    "    if abs(pop_mean - samp_mean) > max_mean_diff:\n",
    "        max_mean_diff = abs(pop_mean - samp_mean)\n",
    "    if abs(pop_sd - samp_sd) > max_sd_diff:\n",
    "        max_sd_diff = abs(pop_sd - samp_sd)\n",
    "print('Mean of SAMPLE MEANS = ', round(sum(sample_means)/len(sample_means),3))\n",
    "print('Standard Deviation of SAMPLE MEANS = ', round(np.std(sample_means),3))\n",
    "print('Standard Deviation of Population = ', pop_sd)\n",
    "print('Maximum difference in means =', round(max_mean_diff,3))\n",
    "print('Maximum difference in sd = ', round(max_sd_diff,3))\n",
    "make_hist(sample_means, 'Means of Samples', 'Mean', 'Freq')\n",
    "pylab.axvline(x=sum(sample_means)/len(sample_means), color='r')"
   ]
  },
  {
   "cell_type": "code",
   "execution_count": 13,
   "metadata": {},
   "outputs": [
    {
     "data": {
      "image/png": "[encoded data removed]",
      "text/plain": [
       "<matplotlib.figure.Figure at 0x23ceb361390>"
      ]
     },
     "metadata": {},
     "output_type": "display_data"
    },
    {
     "data": {
      "text/plain": [
       "<matplotlib.figure.Figure at 0x23cebffeb70>"
      ]
     },
     "metadata": {},
     "output_type": "display_data"
    }
   ],
   "source": [
    "def show_error_bars(population, sizes, num_trials):\n",
    "    x_vals = []\n",
    "    size_means, size_sds = [], []\n",
    "    for sample_size in sizes:\n",
    "        x_vals.append(sample_size)\n",
    "        trial_means = []\n",
    "        for t in range(num_trials):\n",
    "            sample = random.sample(population, sample_size)\n",
    "            pop_mean, samp_mean, pop_sd, samp_sd = get_means_and_sds(population, sample)\n",
    "            trial_means.append(samp_mean)\n",
    "        size_means.append(sum(trial_means) / len(trial_means))\n",
    "        size_sds.append(np.std(trial_means))\n",
    "    pylab.errorbar(x_vals, size_means, yerr=1.96*pylab.array(size_sds), fmt='o',\\\n",
    "                  label='95% Confidence Interval')\n",
    "    pylab.title('Mean Temperature (' + str(num_trials) + ' trials)')\n",
    "    pylab.xlabel('Sample Size')\n",
    "    pylab.ylabel('Mean')\n",
    "\n",
    "    pylab.axhline(y=pop_mean,color='r',label='Population Mean')\n",
    "    pylab.xlim(0, sizes[-1] + 10)\n",
    "    pylab.legend()\n",
    "    pylab.figure()\n",
    "    \n",
    "show_error_bars(population, (50, 100, 200, 300, 400, 500, 600), 50)"
   ]
  },
  {
   "cell_type": "markdown",
   "metadata": {
    "collapsed": true
   },
   "source": [
    "### Dynamic Programming"
   ]
  },
  {
   "cell_type": "markdown",
   "metadata": {},
   "source": [
    "#### fibnacci"
   ]
  },
  {
   "cell_type": "code",
   "execution_count": 39,
   "metadata": {},
   "outputs": [],
   "source": [
    "def fastFib(x, memo = {}):\n",
    "    if x == 0 or x == 1:\n",
    "        memo[0],memo[1] = 1,1\n",
    "        result = 1\n",
    "    elif x in memo:\n",
    "        result = memo[x]\n",
    "    else:\n",
    "        result = fastFib(x-1, memo) + fastFib(x-2, memo)\n",
    "        memo[x] = result\n",
    "    return result"
   ]
  },
  {
   "cell_type": "code",
   "execution_count": 40,
   "metadata": {},
   "outputs": [
    {
     "name": "stdout",
     "output_type": "stream",
     "text": [
      "573147844013817084101\n"
     ]
    }
   ],
   "source": [
    "print(fastFib(100))"
   ]
  },
  {
   "cell_type": "markdown",
   "metadata": {},
   "source": [
    "#### 0/1 knapsack problem"
   ]
  },
  {
   "cell_type": "code",
   "execution_count": 4,
   "metadata": {},
   "outputs": [],
   "source": [
    "class Item:\n",
    "    def __init__(self, name, val, weight):\n",
    "        self.name = name\n",
    "        self.val = val\n",
    "        self.weight = weight\n",
    "    def get_weight(self):\n",
    "        return self.weight\n",
    "    def get_value(self):\n",
    "        return self.val\n",
    "    def __str__(self):\n",
    "        return \"<\" + str(self.name) + \", \" + str(float(self.val)) + \", \" + str(float(self.weight)) + \">\"\n",
    "\n",
    "def max_val(to_consider, avail):\n",
    "    if to_consider == [] or avail == 0:\n",
    "        result = (0,())\n",
    "    elif to_consider[0].get_weight() > avail:\n",
    "        result = max_val(to_consider[1:], avail)\n",
    "    else:\n",
    "        next_item = to_consider[0]\n",
    "        \n",
    "        with_val, with_to_take = max_val(to_consider[1:], avail-next_item.get_weight())\n",
    "        with_val += next_item.get_value()\n",
    "        \n",
    "        without_val, without_to_take = max_val(to_consider[1:], avail)\n",
    "        \n",
    "        if with_val > without_val:\n",
    "            result = (with_val, with_to_take + (next_item,))\n",
    "        else:\n",
    "            result = (without_val, without_to_take)\n",
    "    return result"
   ]
  },
  {
   "cell_type": "code",
   "execution_count": 18,
   "metadata": {},
   "outputs": [],
   "source": [
    "def small_test():\n",
    "    names = ['a','b','c','d']\n",
    "    vals = [6,7,8,9]\n",
    "    weights = [3,2,3,5]\n",
    "    Items = []\n",
    "    for i in range(len(vals)):\n",
    "        Items.append(Item(names[i], vals[i], weights[i]))\n",
    "    val, taken = fast_max_val(Items, 5)\n",
    "    print(type(taken))\n",
    "    for item in taken:\n",
    "        print(item)\n",
    "    print('Total value of items taken = ' + str(val))"
   ]
  },
  {
   "cell_type": "code",
   "execution_count": 21,
   "metadata": {},
   "outputs": [
    {
     "name": "stdout",
     "output_type": "stream",
     "text": [
      "<class 'tuple'>\n",
      "<c, 8.0, 3.0>\n",
      "<b, 7.0, 2.0>\n",
      "Total value of items taken = 15\n"
     ]
    }
   ],
   "source": [
    "small_test()"
   ]
  },
  {
   "cell_type": "code",
   "execution_count": 20,
   "metadata": {},
   "outputs": [],
   "source": [
    "def fast_max_val(to_consider, avail, memo = {}):\n",
    "    if (len(to_consider),avail) in memo:\n",
    "        result = memo[(len(to_consider),avail)]\n",
    "    elif to_consider == [] or avail == 0:\n",
    "        result = (0,())\n",
    "    elif to_consider[0].get_weight() > avail:\n",
    "        result = fast_max_val(to_consider[1:], avail, memo)\n",
    "    else:\n",
    "        item = to_consider[0]\n",
    "        with_val, with_to_take = fast_max_val(to_consider[1:], avail - item.get_weight(), memo)\n",
    "        with_val += item.get_value()\n",
    "        \n",
    "        without_val, without_to_take = fast_max_val(to_consider[1:], avail, memo)\n",
    "        \n",
    "        if with_val > without_val:\n",
    "            result = (with_val, with_to_take + (item,))\n",
    "        else:\n",
    "            result = (without_val, without_to_take)\n",
    "    memo[(len(to_consider),avail)] = result\n",
    "    return result"
   ]
  },
  {
   "cell_type": "code",
   "execution_count": 1,
   "metadata": {},
   "outputs": [],
   "source": [
    "def f(x):\n",
    "    # x is an integer\n",
    "    return int(x + random.choice([0.25, 0.5, 0.75]))"
   ]
  },
  {
   "cell_type": "code",
   "execution_count": 36,
   "metadata": {},
   "outputs": [],
   "source": [
    "# import random\n",
    "# for _ in range(10):\n",
    "#     print(f(0))"
   ]
  },
  {
   "cell_type": "code",
   "execution_count": 5,
   "metadata": {},
   "outputs": [],
   "source": [
    "import random\n",
    "\n",
    "def A():\n",
    "    mylist = []\n",
    "    r = 1\n",
    "\n",
    "    if random.random() > 0.99:\n",
    "        r = random.randint(1, 10)\n",
    "    for i in range(r):\n",
    "        random.seed(0)\n",
    "        if random.randint(1, 10) > 3:\n",
    "            number = random.randint(1, 10)\n",
    "            mylist.append(number)\n",
    "    print(mylist)"
   ]
  },
  {
   "cell_type": "code",
   "execution_count": 30,
   "metadata": {},
   "outputs": [],
   "source": [
    "import numpy as np\n",
    "def greedySum(L, s):\n",
    "    \"\"\" input: s, positive integer, what the sum should add up to\n",
    "               L, list of unique positive integers sorted in descending order\n",
    "        Use the greedy approach where you find the largest multiplier for \n",
    "        the largest value in L then for the second largest, and so on to \n",
    "        solve the equation s = L[0]*m_0 + L[1]*m_1 + ... + L[n-1]*m_(n-1)\n",
    "        return: the sum of the multipliers or \"no solution\" if greedy approach does \n",
    "                not yield a set of multipliers such that the equation sums to 's'\n",
    "    \"\"\"\n",
    "    m = []\n",
    "    residue = s\n",
    "    for e in L:\n",
    "        tmp = residue // e\n",
    "        residue -= tmp * e\n",
    "        m += [tmp]\n",
    "    if sum(np.multiply(m, L)) != s:\n",
    "        return \"no solution\"\n",
    "    else:\n",
    "        return sum(m)"
   ]
  },
  {
   "cell_type": "code",
   "execution_count": 32,
   "metadata": {},
   "outputs": [
    {
     "name": "stdout",
     "output_type": "stream",
     "text": [
      "5\n"
     ]
    }
   ],
   "source": [
    "print(greedySum([10,5,1],14))"
   ]
  },
  {
   "cell_type": "code",
   "execution_count": 33,
   "metadata": {},
   "outputs": [],
   "source": [
    "def max_contig_sum(L):\n",
    "    \"\"\" L, a list of integers, at least one positive\n",
    "    Returns the maximum sum of a contiguous subsequence in L \"\"\"\n",
    "    all_contig_sum = []\n",
    "    for i in range(len(L)):\n",
    "        sub_contig_sum = []\n",
    "        for j in range(i,len(L)):\n",
    "            tmp_sum = sum(L[i:j+1])\n",
    "            sub_contig_sum.append(tmp_sum)\n",
    "        all_contig_sum.append(max(sub_contig_sum))\n",
    "    return max(all_contig_sum)\n",
    "    "
   ]
  },
  {
   "cell_type": "code",
   "execution_count": 35,
   "metadata": {},
   "outputs": [
    {
     "name": "stdout",
     "output_type": "stream",
     "text": [
      "16\n"
     ]
    }
   ],
   "source": [
    "L = [3,4,-8,15,-1,2]\n",
    "print(max_contig_sum(L))"
   ]
  },
  {
   "cell_type": "code",
   "execution_count": 45,
   "metadata": {},
   "outputs": [
    {
     "name": "stdout",
     "output_type": "stream",
     "text": [
      "49\n",
      "0\n"
     ]
    }
   ],
   "source": [
    "def solveit(test):\n",
    "    \"\"\" test, a function that takes an int parameter and returns a Boolean\n",
    "        Assumes there exists an int, x, such that test(x) is True\n",
    "        Returns an int, x, with the smallest absolute value such that test(x) is True \n",
    "        In case of ties, return any one of them. \n",
    "    \"\"\"\n",
    "    # IMPLEMENT THIS FUNCTION\n",
    "    x = 0\n",
    "    while True:\n",
    "        if test(x):\n",
    "            return x\n",
    "        elif test(-x):\n",
    "            return -x\n",
    "        else:\n",
    "            x += 1\n",
    "\n",
    "#### This test case prints 49 ####\n",
    "def f(x):\n",
    "    return (x+15)**0.5 + x**0.5 == 15\n",
    "print(solveit(f))\n",
    "\n",
    "#### This test case prints 0 ####\n",
    "def f(x):\n",
    "    return x == 0\n",
    "print(solveit(f))"
   ]
  },
  {
   "cell_type": "code",
   "execution_count": null,
   "metadata": {},
   "outputs": [],
   "source": []
  }
 ],
 "metadata": {
  "anaconda-cloud": {},
  "kernelspec": {
   "display_name": "Python 3",
   "language": "python",
   "name": "python3"
  },
  "language_info": {
   "codemirror_mode": {
    "name": "ipython",
    "version": 3
   },
   "file_extension": ".py",
   "mimetype": "text/x-python",
   "name": "python",
   "nbconvert_exporter": "python",
   "pygments_lexer": "ipython3",
   "version": "3.5.2"
  }
 },
 "nbformat": 4,
 "nbformat_minor": 1
}
